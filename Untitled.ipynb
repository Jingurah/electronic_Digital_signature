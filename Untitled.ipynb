{
 "cells": [
  {
   "cell_type": "code",
   "execution_count": 3,
   "id": "937e9935",
   "metadata": {},
   "outputs": [],
   "source": [
    "\n",
    "import os\n",
    "from cryptography.hazmat.primitives.asymmetric import rsa, padding\n",
    "from cryptography.hazmat.primitives import serialization, hashes\n",
    "from cryptography.hazmat.primitives.ciphers import Cipher, algorithms, modes\n",
    "from cryptography.hazmat.backends import default_backend\n",
    "import smtplib\n",
    "from email.mime.text import MIMEText\n",
    "from email.mime.multipart import MIMEMultipart\n",
    "from email.mime.application import MIMEApplication\n",
    "import hashlib\n",
    "\n",
    "from cryptography.hazmat.primitives.kdf.pbkdf2 import PBKDF2HMAC"
   ]
  },
  {
   "cell_type": "code",
   "execution_count": 4,
   "id": "6434851f",
   "metadata": {},
   "outputs": [],
   "source": [
    "# Generate RSA key pair\n",
    "private_key = rsa.generate_private_key(\n",
    "    public_exponent=65537,\n",
    "    key_size=2048,\n",
    "    backend=default_backend()\n",
    ")\n",
    "public_key = private_key.public_key()"
   ]
  },
  {
   "cell_type": "code",
   "execution_count": 6,
   "id": "24709457",
   "metadata": {},
   "outputs": [],
   "source": [
    "# Create digital signature\n",
    "file_path = \"file_to_sign.txt\"\n",
    "with open(file_path, \"rb\") as f:\n",
    "    file_data = f.read()\n",
    "\n",
    "signature = private_key.sign(\n",
    "    file_data,\n",
    "    padding.PSS(\n",
    "        mgf=padding.MGF1(hashes.SHA256()),\n",
    "        salt_length=padding.PSS.MAX_LENGTH\n",
    "    ),\n",
    "    hashes.SHA256()\n",
    ")"
   ]
  },
  {
   "cell_type": "code",
   "execution_count": 7,
   "id": "8dc737e9",
   "metadata": {},
   "outputs": [],
   "source": [
    "\n",
    "# Save public key to file\n",
    "public_key_file = \"public_key.pem\"\n",
    "with open(public_key_file, \"wb\") as f:\n",
    "    f.write(public_key.public_bytes(\n",
    "        encoding=serialization.Encoding.PEM,\n",
    "        format=serialization.PublicFormat.SubjectPublicKeyInfo\n",
    "    ))\n",
    "\n"
   ]
  },
  {
   "cell_type": "code",
   "execution_count": 10,
   "id": "af15e756",
   "metadata": {},
   "outputs": [
    {
     "ename": "TypeError",
     "evalue": "from_buffer() cannot return the address of a unicode object",
     "output_type": "error",
     "traceback": [
      "\u001b[1;31m---------------------------------------------------------------------------\u001b[0m",
      "\u001b[1;31mTypeError\u001b[0m                                 Traceback (most recent call last)",
      "Cell \u001b[1;32mIn[10], line 21\u001b[0m\n\u001b[0;32m     19\u001b[0m cipher \u001b[39m=\u001b[39m Cipher(algorithms\u001b[39m.\u001b[39mAES(private_key), modes\u001b[39m.\u001b[39mCBC(iv), backend\u001b[39m=\u001b[39mdefault_backend())\n\u001b[0;32m     20\u001b[0m encryptor \u001b[39m=\u001b[39m cipher\u001b[39m.\u001b[39mencryptor()\n\u001b[1;32m---> 21\u001b[0m encrypted_data \u001b[39m=\u001b[39m encryptor\u001b[39m.\u001b[39;49mupdate(file_data) \u001b[39m+\u001b[39m encryptor\u001b[39m.\u001b[39mfinalize()\n",
      "File \u001b[1;32mc:\\Users\\jingu\\AppData\\Local\\Programs\\Python\\Python311\\Lib\\site-packages\\cryptography\\hazmat\\primitives\\ciphers\\base.py:176\u001b[0m, in \u001b[0;36m_CipherContext.update\u001b[1;34m(self, data)\u001b[0m\n\u001b[0;32m    174\u001b[0m \u001b[39mif\u001b[39;00m \u001b[39mself\u001b[39m\u001b[39m.\u001b[39m_ctx \u001b[39mis\u001b[39;00m \u001b[39mNone\u001b[39;00m:\n\u001b[0;32m    175\u001b[0m     \u001b[39mraise\u001b[39;00m AlreadyFinalized(\u001b[39m\"\u001b[39m\u001b[39mContext was already finalized.\u001b[39m\u001b[39m\"\u001b[39m)\n\u001b[1;32m--> 176\u001b[0m \u001b[39mreturn\u001b[39;00m \u001b[39mself\u001b[39;49m\u001b[39m.\u001b[39;49m_ctx\u001b[39m.\u001b[39;49mupdate(data)\n",
      "File \u001b[1;32mc:\\Users\\jingu\\AppData\\Local\\Programs\\Python\\Python311\\Lib\\site-packages\\cryptography\\hazmat\\backends\\openssl\\ciphers.py:145\u001b[0m, in \u001b[0;36m_CipherContext.update\u001b[1;34m(self, data)\u001b[0m\n\u001b[0;32m    143\u001b[0m \u001b[39mdef\u001b[39;00m \u001b[39mupdate\u001b[39m(\u001b[39mself\u001b[39m, data: \u001b[39mbytes\u001b[39m) \u001b[39m-\u001b[39m\u001b[39m>\u001b[39m \u001b[39mbytes\u001b[39m:\n\u001b[0;32m    144\u001b[0m     buf \u001b[39m=\u001b[39m \u001b[39mbytearray\u001b[39m(\u001b[39mlen\u001b[39m(data) \u001b[39m+\u001b[39m \u001b[39mself\u001b[39m\u001b[39m.\u001b[39m_block_size_bytes \u001b[39m-\u001b[39m \u001b[39m1\u001b[39m)\n\u001b[1;32m--> 145\u001b[0m     n \u001b[39m=\u001b[39m \u001b[39mself\u001b[39;49m\u001b[39m.\u001b[39;49mupdate_into(data, buf)\n\u001b[0;32m    146\u001b[0m     \u001b[39mreturn\u001b[39;00m \u001b[39mbytes\u001b[39m(buf[:n])\n",
      "File \u001b[1;32mc:\\Users\\jingu\\AppData\\Local\\Programs\\Python\\Python311\\Lib\\site-packages\\cryptography\\hazmat\\backends\\openssl\\ciphers.py:160\u001b[0m, in \u001b[0;36m_CipherContext.update_into\u001b[1;34m(self, data, buf)\u001b[0m\n\u001b[0;32m    158\u001b[0m outlen \u001b[39m=\u001b[39m \u001b[39mself\u001b[39m\u001b[39m.\u001b[39m_backend\u001b[39m.\u001b[39m_ffi\u001b[39m.\u001b[39mnew(\u001b[39m\"\u001b[39m\u001b[39mint *\u001b[39m\u001b[39m\"\u001b[39m)\n\u001b[0;32m    159\u001b[0m baseoutbuf \u001b[39m=\u001b[39m \u001b[39mself\u001b[39m\u001b[39m.\u001b[39m_backend\u001b[39m.\u001b[39m_ffi\u001b[39m.\u001b[39mfrom_buffer(buf, require_writable\u001b[39m=\u001b[39m\u001b[39mTrue\u001b[39;00m)\n\u001b[1;32m--> 160\u001b[0m baseinbuf \u001b[39m=\u001b[39m \u001b[39mself\u001b[39;49m\u001b[39m.\u001b[39;49m_backend\u001b[39m.\u001b[39;49m_ffi\u001b[39m.\u001b[39;49mfrom_buffer(data)\n\u001b[0;32m    162\u001b[0m \u001b[39mwhile\u001b[39;00m data_processed \u001b[39m!=\u001b[39m total_data_len:\n\u001b[0;32m    163\u001b[0m     outbuf \u001b[39m=\u001b[39m baseoutbuf \u001b[39m+\u001b[39m total_out\n",
      "\u001b[1;31mTypeError\u001b[0m: from_buffer() cannot return the address of a unicode object"
     ]
    }
   ],
   "source": [
    "#encrypt file\n",
    "\n",
    "file_to_encrypt = \"file_to_encrypt.txt\"\n",
    "#with open(file_to_encrypt, \"rb\") as f:\n",
    "with open(file_to_encrypt, \"r\") as f:\n",
    "\n",
    "    file_data = f.read()\n",
    "\n",
    "password = \"my_password\".encode('utf-8')  # Encode the passphrase string as bytes\n",
    "salt = os.urandom(16)  # Generate a random salt\n",
    "iterations = 100000  # Set the number of iterations for PBKDF2\n",
    "\n",
    "# Derive a 256-bit key using PBKDF2 with HMAC-SHA256\n",
    "kdf = PBKDF2HMAC(algorithm=hashlib.sha256(), length=32, salt=salt, iterations=iterations)\n",
    "private_key = kdf.derive(password)\n",
    "\n",
    "iv = os.urandom(16)  # Generate a random IV (16 bytes for AES-CBC)\n",
    "\n",
    "cipher = Cipher(algorithms.AES(private_key), modes.CBC(iv), backend=default_backend())\n",
    "encryptor = cipher.encryptor()\n",
    "encrypted_data = encryptor.update(file_data) + encryptor.finalize()\n"
   ]
  },
  {
   "cell_type": "code",
   "execution_count": 9,
   "id": "212e899d",
   "metadata": {},
   "outputs": [
    {
     "ename": "NameError",
     "evalue": "name 'encrypted_data' is not defined",
     "output_type": "error",
     "traceback": [
      "\u001b[1;31m---------------------------------------------------------------------------\u001b[0m",
      "\u001b[1;31mNameError\u001b[0m                                 Traceback (most recent call last)",
      "Cell \u001b[1;32mIn[9], line 4\u001b[0m\n\u001b[0;32m      2\u001b[0m encrypted_file \u001b[39m=\u001b[39m \u001b[39m\"\u001b[39m\u001b[39mencrypted_file.bin\u001b[39m\u001b[39m\"\u001b[39m\n\u001b[0;32m      3\u001b[0m \u001b[39mwith\u001b[39;00m \u001b[39mopen\u001b[39m(encrypted_file, \u001b[39m\"\u001b[39m\u001b[39mwb\u001b[39m\u001b[39m\"\u001b[39m) \u001b[39mas\u001b[39;00m f:\n\u001b[1;32m----> 4\u001b[0m     f\u001b[39m.\u001b[39mwrite(iv \u001b[39m+\u001b[39m encrypted_data)\n",
      "\u001b[1;31mNameError\u001b[0m: name 'encrypted_data' is not defined"
     ]
    }
   ],
   "source": [
    "# Save encrypted data to file\n",
    "encrypted_file = \"encrypted_file.bin\"\n",
    "with open(encrypted_file, \"wb\") as f:\n",
    "    f.write(iv + encrypted_data)"
   ]
  },
  {
   "cell_type": "code",
   "execution_count": 9,
   "id": "e128bbd4",
   "metadata": {},
   "outputs": [],
   "source": [
    "# Send encrypted file by email\n",
    "#NOTE: you will need to create app specific password for gmail the use it as sender_password\n",
    "sender_email = \"email@example.com\"\n",
    "sender_password = \"boimqeztuogjtcau\"\n",
    "recipient_email = \"email@example.com \"\n",
    "subject = \"Encrypted file\"\n",
    "body = \"Please find the encrypted file attached.\"\n",
    "\n",
    "msg = MIMEMultipart()\n",
    "msg['From'] = sender_email\n",
    "msg['To'] = recipient_email\n",
    "msg['Subject'] = subject\n",
    "msg.attach(MIMEText(body))\n",
    "\n",
    "with open(encrypted_file, \"rb\") as f:\n",
    "    attachment = MIMEApplication(f.read(), _subtype=\"bin\")\n",
    "    attachment.add_header('Content-Disposition', 'attachment', filename=encrypted_file)\n",
    "    msg.attach(attachment)\n",
    "\n",
    "with smtplib.SMTP_SSL('smtp.gmail.com', 465) as smtp:\n",
    "    smtp.login(sender_email, sender_password)\n",
    "    smtp.send_message(msg)"
   ]
  },
  {
   "cell_type": "code",
   "execution_count": 1,
   "id": "e6586777",
   "metadata": {},
   "outputs": [
    {
     "ename": "NameError",
     "evalue": "name 'encrypted_file' is not defined",
     "output_type": "error",
     "traceback": [
      "\u001b[1;31m---------------------------------------------------------------------------\u001b[0m",
      "\u001b[1;31mNameError\u001b[0m                                 Traceback (most recent call last)",
      "Cell \u001b[1;32mIn[1], line 2\u001b[0m\n\u001b[0;32m      1\u001b[0m \u001b[39m# Decrypt file and verify digital signature\u001b[39;00m\n\u001b[1;32m----> 2\u001b[0m \u001b[39mwith\u001b[39;00m \u001b[39mopen\u001b[39m(encrypted_file, \u001b[39m\"\u001b[39m\u001b[39mrb\u001b[39m\u001b[39m\"\u001b[39m) \u001b[39mas\u001b[39;00m f:\n\u001b[0;32m      3\u001b[0m     data \u001b[39m=\u001b[39m f\u001b[39m.\u001b[39mread()\n\u001b[0;32m      4\u001b[0m     iv \u001b[39m=\u001b[39m data[:\u001b[39m16\u001b[39m]\n",
      "\u001b[1;31mNameError\u001b[0m: name 'encrypted_file' is not defined"
     ]
    }
   ],
   "source": [
    "\n",
    "\n",
    "# Decrypt file and verify digital signature\n",
    "with open(encrypted_file, \"rb\") as f:\n",
    "    data = f.read()\n",
    "    iv = data[:16]\n",
    "    encrypted_data = data[16:]\n",
    "\n",
    "cipher = Cipher(algorithms.AES(private_key), modes.CBC(iv), backend=default_backend())\n",
    "decryptor = cipher.decryptor()\n",
    "decrypted_data = decryptor.update(encrypted_data) + decryptor.finalize()\n",
    "\n",
    "with open(\"decrypted_file.txt\", \"wb\") as f:\n",
    "    f.write(decrypted_data)\n",
    "\n",
    "with open(\"public_key.pem\", \"rb\") as f:\n",
    "    public_key = serialization.load_pem_public_key(\n",
    "        f.read(),\n",
    "        backend=default_backend()\n",
    "    )\n",
    "\n",
    "with open(\"decrypted_file.txt\", \"rb\") as f:\n",
    "    file_data = f.read()\n",
    "try:\n",
    " public_key.verify(\n",
    " signature,\n",
    " file_data,\n",
    " padding.PSS(\n",
    " mgf=padding.MGF1(hashes.SHA256()),\n",
    " salt_length=padding.PSS.MAX_LENGTH\n",
    " ),\n",
    " hashes.SHA256()\n",
    " )\n",
    " print(\"Digital signature is valid\")\n",
    "except:\n",
    " print(\"Digital signature is not valid\")\n"
   ]
  },
  {
   "cell_type": "code",
   "execution_count": null,
   "id": "8ec4ee23",
   "metadata": {},
   "outputs": [],
   "source": []
  }
 ],
 "metadata": {
  "kernelspec": {
   "display_name": "Python 3 (ipykernel)",
   "language": "python",
   "name": "python3"
  },
  "language_info": {
   "codemirror_mode": {
    "name": "ipython",
    "version": 3
   },
   "file_extension": ".py",
   "mimetype": "text/x-python",
   "name": "python",
   "nbconvert_exporter": "python",
   "pygments_lexer": "ipython3",
   "version": "3.11.2"
  }
 },
 "nbformat": 4,
 "nbformat_minor": 5
}
