{
 "cells": [
  {
   "cell_type": "code",
   "execution_count": 1,
   "id": "937e9935",
   "metadata": {},
   "outputs": [],
   "source": [
    "\n",
    "import os\n",
    "from cryptography.hazmat.primitives.asymmetric import rsa, padding\n",
    "from cryptography.hazmat.primitives import serialization, hashes\n",
    "from cryptography.hazmat.primitives.ciphers import Cipher, algorithms, modes\n",
    "from cryptography.hazmat.backends import default_backend\n",
    "import smtplib\n",
    "from email.mime.text import MIMEText\n",
    "from email.mime.multipart import MIMEMultipart\n",
    "from email.mime.application import MIMEApplication\n",
    "import hashlib\n",
    "\n",
    "from cryptography.hazmat.primitives.kdf.pbkdf2 import PBKDF2HMAC"
   ]
  },
  {
   "cell_type": "code",
   "execution_count": 2,
   "id": "6434851f",
   "metadata": {},
   "outputs": [],
   "source": [
    "# Generate RSA key pair\n",
    "private_key = rsa.generate_private_key(\n",
    "    public_exponent=65537,\n",
    "    key_size=2048,\n",
    "    backend=default_backend()\n",
    ")\n",
    "public_key = private_key.public_key()"
   ]
  },
  {
   "cell_type": "code",
   "execution_count": 3,
   "id": "24709457",
   "metadata": {},
   "outputs": [],
   "source": [
    "# Create digital signature\n",
    "file_path = \"file_to_sign.txt\"\n",
    "with open(file_path, \"rb\") as f: \n",
    "    file_data = f.read()\n",
    "signature = private_key.sign(\n",
    "    file_data,\n",
    "    padding.PSS(\n",
    "        mgf=padding.MGF1(hashes.SHA256()),\n",
    "        salt_length=padding.PSS.MAX_LENGTH\n",
    "    ),\n",
    "    hashes.SHA256()\n",
    ")"
   ]
  },
  {
   "cell_type": "code",
   "execution_count": 4,
   "id": "8dc737e9",
   "metadata": {},
   "outputs": [],
   "source": [
    "\n",
    "# Save public key to file\n",
    "public_key_file = \"public_key.pem\"\n",
    "with open(public_key_file, \"wb\") as f:\n",
    "    f.write(public_key.public_bytes(\n",
    "        encoding=serialization.Encoding.PEM,\n",
    "        format=serialization.PublicFormat.SubjectPublicKeyInfo\n",
    "    ))\n",
    "\n"
   ]
  },
  {
   "cell_type": "code",
   "execution_count": 5,
   "id": "af15e756",
   "metadata": {},
   "outputs": [],
   "source": [
    "#encrypt file\n",
    "\n",
    "file_to_encrypt = \"file_to_encrypt.txt\"\n",
    "with open(file_to_encrypt, \"rb\") as f:\n",
    "\n",
    "    file_data = f.read()\n",
    "\n",
    "password = \"my_password\".encode('utf-8')  # Encode the passphrase string as bytes\n",
    "salt = os.urandom(16)  # Generate a random salt\n",
    "iterations = 100000  # Set the number of iterations for PBKDF2\n",
    "\n",
    "# Derive a 256-bit key using PBKDF2 with HMAC-SHA256\n",
    "kdf = PBKDF2HMAC(algorithm=hashlib.sha256(), length=32, salt=salt, iterations=iterations)\n",
    "private_key = kdf.derive(password)\n",
    "\n",
    "iv = os.urandom(16)  # Generate a random IV (16 bytes for AES-CBC)\n",
    "\n",
    "cipher = Cipher(algorithms.AES(private_key), modes.CBC(iv), backend=default_backend())\n",
    "encryptor = cipher.encryptor()\n",
    "encrypted_data = encryptor.update(file_data) + encryptor.finalize()\n"
   ]
  },
  {
   "cell_type": "code",
   "execution_count": 6,
   "id": "212e899d",
   "metadata": {},
   "outputs": [],
   "source": [
    "# Save encrypted data to file\n",
    "encrypted_file = \"encrypted_file.bin\"\n",
    "with open(encrypted_file, \"wb\") as f:\n",
    "    f.write(iv + encrypted_data)"
   ]
  },
  {
   "cell_type": "code",
   "execution_count": 7,
   "id": "e128bbd4",
   "metadata": {},
   "outputs": [],
   "source": [
    "# Send encrypted file by email\n",
    "#NOTE: you will need to create app specific password for gmail if you have TFA on and use it as sender_password\n",
    "sender_email = \"email@example.com\"  \n",
    "sender_password = \"boimqeztuogjtcau\"\n",
    "recipient_email = \"email@example.com\"\n",
    "subject = \"Encrypted file\"\n",
    "body = \"Please find the encrypted file attached.\"\n",
    "\n",
    "msg = MIMEMultipart()\n",
    "msg['From'] = sender_email\n",
    "msg['To'] = recipient_email\n",
    "msg['Subject'] = subject\n",
    "msg.attach(MIMEText(body))\n",
    "\n",
    "with open(encrypted_file, \"rb\") as f: \n",
    "    \n",
    "    attachment = MIMEApplication(f.read(), _subtype=\"bin\")\n",
    "    attachment.add_header('Content-Disposition', 'attachment', filename=encrypted_file)\n",
    "    msg.attach(attachment)\n",
    "\n",
    "with smtplib.SMTP_SSL('smtp.gmail.com', 465) as smtp:\n",
    "    smtp.login(sender_email, sender_password)\n",
    "    smtp.send_message(msg)"
   ]
  },
  {
   "cell_type": "code",
   "execution_count": 9,
   "id": "e6586777",
   "metadata": {},
   "outputs": [
    {
     "name": "stdout",
     "output_type": "stream",
     "text": [
      "Digital signature is valid\n"
     ]
    }
   ],
   "source": [
    "\n",
    "\n",
    "# Decrypt file and verify digital signature\n",
    "with open(encrypted_file, \"rb\") as f:\n",
    "    data = f.read()\n",
    "    iv = data[:16]\n",
    "    encrypted_data = data[16:]\n",
    "\n",
    "cipher = Cipher(algorithms.AES(private_key), modes.CBC(iv), backend=default_backend())\n",
    "decryptor = cipher.decryptor()\n",
    "decrypted_data = decryptor.update(encrypted_data) + decryptor.finalize()\n",
    "\n",
    "with open(\"decrypted_file.txt\", \"wb\") as f:\n",
    "    f.write(decrypted_data)\n",
    "\n",
    "with open(\"public_key.pem\", \"rb\") as f: \n",
    "    public_key = serialization.load_pem_public_key(\n",
    "        f.read(),\n",
    "        backend=default_backend()\n",
    "    )\n",
    "\n",
    "with open(\"decrypted_file.txt\", \"rb\") as f:\n",
    "    file_data = f.read()\n",
    "try:\n",
    "    public_key.verify(\n",
    "    signature,\n",
    "    file_data,\n",
    "    padding.PSS(\n",
    "    mgf=padding.MGF1(hashes.SHA256()),\n",
    "    salt_length=padding.PSS.MAX_LENGTH\n",
    "    ),\n",
    "    hashes.SHA256()\n",
    "    )\n",
    "    print(\"Digital signature is valid\")\n",
    "except:\n",
    "    print(\"Digital signature is not valid\")\n"
   ]
  },
  {
   "cell_type": "code",
   "execution_count": null,
   "id": "8ec4ee23",
   "metadata": {},
   "outputs": [],
   "source": []
  }
 ],
 "metadata": {
  "kernelspec": {
   "display_name": "Python 3 (ipykernel)",
   "language": "python",
   "name": "python3"
  },
  "language_info": {
   "codemirror_mode": {
    "name": "ipython",
    "version": 3
   },
   "file_extension": ".py",
   "mimetype": "text/x-python",
   "name": "python",
   "nbconvert_exporter": "python",
   "pygments_lexer": "ipython3",
   "version": "3.11.2"
  }
 },
 "nbformat": 4,
 "nbformat_minor": 5
}
